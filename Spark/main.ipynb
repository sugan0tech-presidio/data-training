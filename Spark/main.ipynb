{
 "cells": [
  {
   "cell_type": "code",
   "execution_count": 1,
   "metadata": {},
   "outputs": [],
   "source": [
    "from pyspark.sql import SparkSession\n",
    "from pyspark.sql.functions import sum, col, to_date, when, date_format, month"
   ]
  },
  {
   "cell_type": "code",
   "execution_count": 2,
   "metadata": {},
   "outputs": [],
   "source": [
    "spark = SparkSession.builder \\\n",
    "    .master(\"local\") \\\n",
    "    .appName(\"CovidStats\") \\\n",
    "    .config(\"spark.some.config.option\", \"some-value\") \\\n",
    "    .getOrCreate()"
   ]
  },
  {
   "cell_type": "code",
   "execution_count": 3,
   "metadata": {},
   "outputs": [],
   "source": [
    "df = spark.read.csv(\"./complete.csv\", header=True, inferSchema=True)"
   ]
  },
  {
   "cell_type": "markdown",
   "metadata": {},
   "source": [
    "The Day with max covid cases"
   ]
  },
  {
   "cell_type": "code",
   "execution_count": 4,
   "metadata": {},
   "outputs": [
    {
     "name": "stdout",
     "output_type": "stream",
     "text": [
      "It was on 06-Aug-2020 max covid cases recorded\n"
     ]
    }
   ],
   "source": [
    "daily_cases = df.groupBy(\"Date\").agg(sum(\"Total Confirmed cases\").alias(\"Total_Cases\"))\n",
    "max_cases_day = daily_cases.orderBy(daily_cases[\"Total_Cases\"].desc()).limit(1)\n",
    "max_cases_day  = max_cases_day.withColumn(\"Formatted_Date\", date_format(col(\"Date\"), \"dd-MMM-yyyy\"))\n",
    "result = max_cases_day.collect()[0]\n",
    "\n",
    "formatted_date_str = result['Formatted_Date']\n",
    "print(f\"It was on {formatted_date_str} max covid cases recorded\")"
   ]
  },
  {
   "cell_type": "markdown",
   "metadata": {},
   "source": [
    "The state has the second-largest number of covid cases."
   ]
  },
  {
   "cell_type": "code",
   "execution_count": 5,
   "metadata": {},
   "outputs": [
    {
     "name": "stdout",
     "output_type": "stream",
     "text": [
      "State with second largest covid cases Tamil Nadu\n"
     ]
    }
   ],
   "source": [
    "state_cases = df.groupBy(\"Name of State / UT\").agg(sum(\"Total Confirmed cases\").alias(\"Total_Cases\"))\n",
    "second_largest_state = state_cases.orderBy(state_cases[\"Total_Cases\"].desc()).limit(2).collect()[1]\n",
    "\n",
    "print(f\"State with second largest covid cases {second_largest_state['Name of State / UT']}\")"
   ]
  },
  {
   "cell_type": "markdown",
   "metadata": {},
   "source": [
    "Which Union Territory has the least number of death."
   ]
  },
  {
   "cell_type": "code",
   "execution_count": 6,
   "metadata": {},
   "outputs": [
    {
     "name": "stdout",
     "output_type": "stream",
     "text": [
      "Least deaths recorded in 'Dadra and Nagar Haveli and Daman and Diu'\n"
     ]
    }
   ],
   "source": [
    "states = [\n",
    "    \"Andaman and Nicobar Islands\", \"Chandigarh\", \"Dadra and Nagar Haveli and Daman and Diu\",\n",
    "    \"Delhi\", \"Jammu and Kashmir\", \"Ladakh\", \"Lakshadweep\", \"Puducherry\"\n",
    "]\n",
    "\n",
    "pattern = \"(?i)\" + \"|\".join(states)\n",
    "\n",
    "states = df.filter(df[\"Name of State / UT\"].rlike(pattern))\n",
    "deaths = states.groupBy(\"Name of State / UT\").agg(sum(\"Death\").alias(\"Total_Deaths\"))\n",
    "state_with_low_deaths = deaths.orderBy(\"Total_Deaths\").first()\n",
    "state_with_low_deaths_non_zero = deaths.filter(col(\"Total_Deaths\") > 0).orderBy(\"Total_Deaths\").first()\n",
    "\n",
    "print(f\"Least deaths recorded in '{state_with_low_deaths_non_zero[\"Name of State / UT\"]}'\")"
   ]
  },
  {
   "cell_type": "markdown",
   "metadata": {},
   "source": [
    "The state has the lowest Death to Total Confirmed cases ratio."
   ]
  },
  {
   "cell_type": "code",
   "execution_count": 7,
   "metadata": {},
   "outputs": [
    {
     "name": "stdout",
     "output_type": "stream",
     "text": [
      "Mizoram\n"
     ]
    }
   ],
   "source": [
    "state_ratios = df.groupBy(\"Name of State / UT\").agg(\n",
    "    sum(\"Death\").alias(\"Total_Deaths\"),\n",
    "    sum(\"Total Confirmed cases\").alias(\"Total_Cases\")\n",
    ").withColumn(\n",
    "    \"Death_to_Cases_Ratio\",\n",
    "    when(col(\"Total_Cases\") != 0, col(\"Total_Deaths\") / col(\"Total_Cases\")).otherwise(None)\n",
    ")\n",
    "\n",
    "lowest_ratio_state = state_ratios.orderBy(\"Death_to_Cases_Ratio\").first()\n",
    "\n",
    "print(lowest_ratio_state[\"Name of State / UT\"])"
   ]
  },
  {
   "cell_type": "markdown",
   "metadata": {},
   "source": [
    "Find which month the Most Newer recovered cases."
   ]
  },
  {
   "cell_type": "code",
   "execution_count": 8,
   "metadata": {},
   "outputs": [
    {
     "name": "stdout",
     "output_type": "stream",
     "text": [
      "The month with most new recoveries is 'July'\n"
     ]
    }
   ],
   "source": [
    "new_cases_by_month = df.groupBy(date_format('Date','MMMM').alias(\"Month\")).agg(sum(\"New recovered\").alias(\"Total New Recovered\"))\n",
    "most_recover_cases = new_cases_by_month.orderBy(new_cases_by_month[\"Total New Recovered\"].desc()).first()[\"Month\"]\n",
    "print(f\"The month with most new recoveries is '{most_recover_cases}'\")"
   ]
  }
 ],
 "metadata": {
  "kernelspec": {
   "display_name": "Python 3",
   "language": "python",
   "name": "python3"
  },
  "language_info": {
   "codemirror_mode": {
    "name": "ipython",
    "version": 3
   },
   "file_extension": ".py",
   "mimetype": "text/x-python",
   "name": "python",
   "nbconvert_exporter": "python",
   "pygments_lexer": "ipython3",
   "version": "3.12.4"
  }
 },
 "nbformat": 4,
 "nbformat_minor": 2
}
